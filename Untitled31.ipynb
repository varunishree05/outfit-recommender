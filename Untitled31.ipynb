{
  "nbformat": 4,
  "nbformat_minor": 0,
  "metadata": {
    "colab": {
      "provenance": [],
      "authorship_tag": "ABX9TyP0/x/fpN8p9BjFD3xBYrQ5",
      "include_colab_link": true
    },
    "kernelspec": {
      "name": "python3",
      "display_name": "Python 3"
    },
    "language_info": {
      "name": "python"
    }
  },
  "cells": [
    {
      "cell_type": "markdown",
      "metadata": {
        "id": "view-in-github",
        "colab_type": "text"
      },
      "source": [
        "<a href=\"https://colab.research.google.com/github/varunishree05/outfit-recommender/blob/main/Untitled31.ipynb\" target=\"_parent\"><img src=\"https://colab.research.google.com/assets/colab-badge.svg\" alt=\"Open In Colab\"/></a>"
      ]
    },
    {
      "cell_type": "code",
      "execution_count": 1,
      "metadata": {
        "colab": {
          "base_uri": "https://localhost:8080/"
        },
        "id": "5HLoDATBZEOg",
        "outputId": "f48af1e6-990d-498a-be91-ac3ac01d0d7c"
      },
      "outputs": [
        {
          "output_type": "stream",
          "name": "stdout",
          "text": [
            "Cloning into 'outfit-recommender'...\n",
            "remote: Enumerating objects: 3, done.\u001b[K\n",
            "remote: Counting objects: 100% (3/3), done.\u001b[K\n",
            "remote: Total 3 (delta 0), reused 0 (delta 0), pack-reused 0 (from 0)\u001b[K\n",
            "Receiving objects: 100% (3/3), done.\n",
            "/content/outfit-recommender\n"
          ]
        }
      ],
      "source": [
        "# Run this in Colab\n",
        "!git clone https://github.com/varunishree05/outfit-recommender.git\n",
        "%cd outfit-recommender"
      ]
    },
    {
      "cell_type": "code",
      "source": [
        "!mkdir -p data\n",
        "# Write the CSV file\n",
        "with open(\"data/outfits.csv\", \"w\") as f:\n",
        "    f.write(\"outfit,color,occasion\\n\")\n",
        "    f.write(\"Casual Shirt and Jeans,Blue,Casual\\n\")\n",
        "    f.write(\"Black Suit,Black,Formal\\n\")\n",
        "    f.write(\"Red Dress,Red,Party\\n\")\n",
        "    f.write(\"Sports Tracksuit,Grey,Sports\\n\")\n",
        "# Verify the contents\n",
        "!cat data/outfits.csv"
      ],
      "metadata": {
        "colab": {
          "base_uri": "https://localhost:8080/"
        },
        "id": "tNI9EfOAZ4BW",
        "outputId": "4cd8dbf0-3059-4f6e-a0cd-627095350939"
      },
      "execution_count": 3,
      "outputs": [
        {
          "output_type": "stream",
          "name": "stdout",
          "text": [
            "outfit,color,occasion\n",
            "Casual Shirt and Jeans,Blue,Casual\n",
            "Black Suit,Black,Formal\n",
            "Red Dress,Red,Party\n",
            "Sports Tracksuit,Grey,Sports\n"
          ]
        }
      ]
    },
    {
      "cell_type": "code",
      "source": [
        "# Step 4: Create recommender/outfit_recommender.py\n",
        "# Make sure the recommender directory exists\n",
        "!mkdir -p recommender\n",
        "# Create outfit_recommender.py with the recommender class\n",
        "with open(\"recommender/outfit_recommender.py\", \"w\") as f:\n",
        "    f.write(\"\"\"\n",
        "import pandas as pd\n",
        "class OutfitRecommender:\n",
        "    def __init__(self, csv_path):\n",
        "        self.data = pd.read_csv(csv_path)\n",
        "    def recommend(self, color=None, occasion=None):\n",
        "        result = self.data\n",
        "        if color:\n",
        "            result = result[result['color'].str.lower() ==\n",
        "\n",
        "color.lower()]\n",
        "        if occasion:\n",
        "            result = result[result['occasion'].str.lower() ==\n",
        "\n",
        "occasion.lower()]\n",
        "\n",
        "        return result['outfit'].tolist()\n",
        "\n",
        "\"\"\")"
      ],
      "metadata": {
        "id": "iNV26EzUaS6Z"
      },
      "execution_count": 5,
      "outputs": []
    },
    {
      "cell_type": "code",
      "source": [
        "# Write the main.py file in the current directory\n",
        "with open(\"main.py\", \"w\") as f:\n",
        "    f.write(\"\"\"\n",
        "from recommender.outfit_recommender import OutfitRecommender\n",
        "def main():\n",
        "    recommender = OutfitRecommender(\"data/outfits.csv\")\n",
        "    print(\"Recommendations for color='Red', occasion='Party':\")\n",
        "    print(recommender.recommend(color='Red', occasion='Party'))\n",
        "if __name__ == \"__main__\":\n",
        "    main()\n",
        "\"\"\")"
      ],
      "metadata": {
        "id": "fhBIj2tcaj_D"
      },
      "execution_count": 7,
      "outputs": []
    },
    {
      "cell_type": "code",
      "source": [
        "!python main.py"
      ],
      "metadata": {
        "colab": {
          "base_uri": "https://localhost:8080/"
        },
        "id": "5ja8ewSnaw31",
        "outputId": "c64443c7-6388-41f5-c175-7105f850ee2c"
      },
      "execution_count": 8,
      "outputs": [
        {
          "output_type": "stream",
          "name": "stdout",
          "text": [
            "Recommendations for color='Red', occasion='Party':\n",
            "['Red Dress']\n"
          ]
        }
      ]
    },
    {
      "cell_type": "code",
      "source": [
        "# Step 7: Use Git in Colab\n",
        "!git config --global user.email \"varunishri689@gmail.com\"\n",
        "!git config --global user.name \"varunishree05\""
      ],
      "metadata": {
        "id": "MNGfAwDqa42F"
      },
      "execution_count": 10,
      "outputs": []
    },
    {
      "cell_type": "code",
      "source": [
        "!git status\n"
      ],
      "metadata": {
        "colab": {
          "base_uri": "https://localhost:8080/"
        },
        "id": "Co1Cq9cfbNCw",
        "outputId": "33336791-7beb-41e5-b708-79d6936bd606"
      },
      "execution_count": 11,
      "outputs": [
        {
          "output_type": "stream",
          "name": "stdout",
          "text": [
            "On branch main\n",
            "Your branch is up to date with 'origin/main'.\n",
            "\n",
            "Untracked files:\n",
            "  (use \"git add <file>...\" to include in what will be committed)\n",
            "\t\u001b[31mdata/\u001b[m\n",
            "\t\u001b[31mmain.py\u001b[m\n",
            "\t\u001b[31mrecommender/\u001b[m\n",
            "\n",
            "nothing added to commit but untracked files present (use \"git add\" to track)\n"
          ]
        }
      ]
    },
    {
      "cell_type": "code",
      "source": [
        "#3. Stage All Changes\n",
        "!git add ."
      ],
      "metadata": {
        "id": "j6sA3kG9bW1q"
      },
      "execution_count": 12,
      "outputs": []
    },
    {
      "cell_type": "code",
      "source": [
        "# Commit changes\n",
        "!git commit -m \"Initial recommender version\""
      ],
      "metadata": {
        "colab": {
          "base_uri": "https://localhost:8080/"
        },
        "id": "VxHGOUHDbYkJ",
        "outputId": "2f69589a-2f11-4b18-8813-ff91fc7770ba"
      },
      "execution_count": 13,
      "outputs": [
        {
          "output_type": "stream",
          "name": "stdout",
          "text": [
            "[main c6f5a62] Initial recommender version\n",
            " 4 files changed, 31 insertions(+)\n",
            " create mode 100644 data/outfits.csv\n",
            " create mode 100644 main.py\n",
            " create mode 100644 recommender/__pycache__/outfit_recommender.cpython-312.pyc\n",
            " create mode 100644 recommender/outfit_recommender.py\n"
          ]
        }
      ]
    }
  ]
}